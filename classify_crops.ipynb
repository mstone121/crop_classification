{
 "cells": [
  {
   "cell_type": "markdown",
   "metadata": {},
   "source": [
    "# Crop Classification"
   ]
  },
  {
   "cell_type": "markdown",
   "metadata": {},
   "source": [
    "## Setup\n",
    "<hr>"
   ]
  },
  {
   "cell_type": "code",
   "execution_count": 1,
   "metadata": {},
   "outputs": [],
   "source": [
    "import os\n",
    "import numpy as np\n",
    "from osgeo import gdal\n",
    "from dbfread import DBF\n",
    "from pandas import DataFrame\n"
   ]
  },
  {
   "cell_type": "markdown",
   "metadata": {},
   "source": [
    "## Load Data\n",
    "<hr>"
   ]
  },
  {
   "cell_type": "code",
   "execution_count": 2,
   "metadata": {},
   "outputs": [],
   "source": [
    "def raster_to_numpy_array(filename):\n",
    "    return np.array(gdal.Open(filename).ReadAsArray())\n",
    "\n",
    "\n",
    "full_training_data = raster_to_numpy_array(\n",
    "    os.path.join(\"data\", \"20130824_RE3_3A_Analytic_Champaign_north.tif\")\n",
    ")\n",
    "\n",
    "training_data_labels = raster_to_numpy_array(\n",
    "    os.path.join(\"data\", \"CDL_2013_Champaign_north.tif\")\n",
    ")\n"
   ]
  },
  {
   "cell_type": "code",
   "execution_count": 3,
   "metadata": {},
   "outputs": [],
   "source": [
    "label_mapping = DataFrame(\n",
    "    iter(\n",
    "        DBF(os.path.join(\"data\", \"CDL_2013_clip_20170525181724_1012622514.tif.vat.dbf\"))\n",
    "    )\n",
    ")\n"
   ]
  },
  {
   "cell_type": "markdown",
   "metadata": {},
   "source": [
    "### Data Metadata\n",
    "\n",
    " There should be 5 bands in the imagery data. Because the training data label raster shares the same projection as the imagery data and was resampled from 30m/pixel to 5m/pixel to match it's resolution, they should have the same data."
   ]
  },
  {
   "cell_type": "code",
   "execution_count": 4,
   "metadata": {},
   "outputs": [
    {
     "name": "stdout",
     "output_type": "stream",
     "text": [
      "5\n",
      "(5959, 9425)\n",
      "(5959, 9425)\n"
     ]
    }
   ],
   "source": [
    "# Training data has 5 bands\n",
    "print(full_training_data.shape[0])\n",
    "\n",
    "# Training data and label have the same shape\n",
    "print(full_training_data.shape[1:])\n",
    "print(training_data_labels.shape)\n"
   ]
  },
  {
   "cell_type": "markdown",
   "metadata": {},
   "source": [
    "The RapidEye product specification I found says the pixeld depth is 16 bits, unsigned. Does that match the data?"
   ]
  },
  {
   "cell_type": "code",
   "execution_count": 5,
   "metadata": {},
   "outputs": [
    {
     "name": "stdout",
     "output_type": "stream",
     "text": [
      "[35709 35412 31680 24759 24381]\n",
      "[0 0 0 0 0]\n"
     ]
    }
   ],
   "source": [
    "print(np.amax(full_training_data, axis=(1, 2)))\n",
    "print(np.amin(full_training_data, axis=(1, 2)))\n"
   ]
  },
  {
   "cell_type": "markdown",
   "metadata": {},
   "source": [
    "Not sure. These values seem pretty low. Perhaps there are simply no bright colors. It shouldn't be a problem as these values will be normalized anyway. \n",
    "\n",
    "What about the label data?"
   ]
  },
  {
   "cell_type": "code",
   "execution_count": 6,
   "metadata": {},
   "outputs": [
    {
     "name": "stdout",
     "output_type": "stream",
     "text": [
      "254\n",
      "1\n",
      "254\n",
      "0\n",
      "   VALUE  CLASS_NAME  RED  GREEN  BLUE  OPACITY\n",
      "0      0  Background  0.0    0.0   0.0      0.0\n",
      "   VALUE CLASS_NAME  RED     GREEN  BLUE  OPACITY\n",
      "1      1       Corn  1.0  0.827451   0.0      1.0\n",
      "   VALUE CLASS_NAME  RED     GREEN      BLUE  OPACITY\n",
      "4      4    Sorghum  1.0  0.619608  0.047059      1.0\n"
     ]
    }
   ],
   "source": [
    "print(np.amax(training_data_labels))\n",
    "print(np.amin(training_data_labels))\n",
    "\n",
    "print(label_mapping[\"VALUE\"].max())\n",
    "print(label_mapping[\"VALUE\"].min())\n",
    "\n",
    "print(label_mapping[label_mapping[\"VALUE\"] == 0])\n",
    "print(label_mapping[label_mapping[\"CLASS_NAME\"] == \"Corn\"])\n",
    "print(label_mapping[label_mapping[\"CLASS_NAME\"] == \"Sorghum\"])\n"
   ]
  },
  {
   "cell_type": "markdown",
   "metadata": {},
   "source": [
    "This checks out. I guess Background is never used as are probably many others. Corn (1) and Sorghum (4) are the important ones."
   ]
  }
 ],
 "metadata": {
  "interpreter": {
   "hash": "558132d36893a0d8d00c92024dd5bde8bb5308b690c98ea4daff78ba69d1592c"
  },
  "kernelspec": {
   "display_name": "Python 3.9.10 64-bit ('env': venv)",
   "language": "python",
   "name": "python3"
  },
  "language_info": {
   "codemirror_mode": {
    "name": "ipython",
    "version": 3
   },
   "file_extension": ".py",
   "mimetype": "text/x-python",
   "name": "python",
   "nbconvert_exporter": "python",
   "pygments_lexer": "ipython3",
   "version": "3.9.10"
  },
  "orig_nbformat": 4
 },
 "nbformat": 4,
 "nbformat_minor": 2
}
